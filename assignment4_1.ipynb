{
 "cells": [
  {
   "cell_type": "markdown",
   "id": "a96fa851",
   "metadata": {},
   "source": [
    "# ASSIGNMENT-4\n",
    "\n",
    "\n",
    "### PLAY WITH LAMBDA"
   ]
  },
  {
   "cell_type": "code",
   "execution_count": 9,
   "id": "35b31d5e",
   "metadata": {},
   "outputs": [
    {
     "name": "stdout",
     "output_type": "stream",
     "text": [
      "35\n"
     ]
    }
   ],
   "source": [
    "\n",
    "r =lambda a : a + 25\n",
    "\n",
    "print(r(10))"
   ]
  },
  {
   "cell_type": "code",
   "execution_count": null,
   "id": "a4399b9b",
   "metadata": {},
   "outputs": [],
   "source": []
  }
 ],
 "metadata": {
  "kernelspec": {
   "display_name": "Python 3 (ipykernel)",
   "language": "python",
   "name": "python3"
  },
  "language_info": {
   "codemirror_mode": {
    "name": "ipython",
    "version": 3
   },
   "file_extension": ".py",
   "mimetype": "text/x-python",
   "name": "python",
   "nbconvert_exporter": "python",
   "pygments_lexer": "ipython3",
   "version": "3.10.5"
  }
 },
 "nbformat": 4,
 "nbformat_minor": 5
}
