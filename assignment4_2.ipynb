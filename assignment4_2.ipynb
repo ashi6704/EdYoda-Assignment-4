{
 "cells": [
  {
   "cell_type": "markdown",
   "id": "a24c9caa",
   "metadata": {},
   "source": [
    "# ASSIGNMENT_4\n",
    "\n",
    "### Find the way with Maps"
   ]
  },
  {
   "cell_type": "code",
   "execution_count": 3,
   "id": "36fe4bbc",
   "metadata": {},
   "outputs": [
    {
     "name": "stdout",
     "output_type": "stream",
     "text": [
      "Sample List:  [1, 2, 3, 4, 5, 6, 7]\n",
      "\n",
      "Triple of list numbers:\n",
      "[3, 6, 9, 12, 15, 18, 21]\n"
     ]
    }
   ],
   "source": [
    "sample_list = [1, 2, 3, 4, 5, 6, 7] \n",
    "\n",
    "print(\"Sample List: \", sample_list)\n",
    "\n",
    "result = map(lambda x: x + x + x,sample_list) \n",
    "\n",
    "print(\"\\nTriple of list numbers:\")\n",
    "\n",
    "print(list(result))"
   ]
  },
  {
   "cell_type": "code",
   "execution_count": null,
   "id": "0451f62b",
   "metadata": {},
   "outputs": [],
   "source": []
  }
 ],
 "metadata": {
  "kernelspec": {
   "display_name": "Python 3 (ipykernel)",
   "language": "python",
   "name": "python3"
  },
  "language_info": {
   "codemirror_mode": {
    "name": "ipython",
    "version": 3
   },
   "file_extension": ".py",
   "mimetype": "text/x-python",
   "name": "python",
   "nbconvert_exporter": "python",
   "pygments_lexer": "ipython3",
   "version": "3.10.5"
  }
 },
 "nbformat": 4,
 "nbformat_minor": 5
}
